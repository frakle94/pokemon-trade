{
 "cells": [
  {
   "cell_type": "markdown",
   "metadata": {},
   "source": [
    "# Pull code from https://github.com/flibustier/pokemon-tcg-pocket-database"
   ]
  },
  {
   "cell_type": "code",
   "execution_count": 1,
   "metadata": {},
   "outputs": [],
   "source": [
    "import pandas as pd\n",
    "import json"
   ]
  },
  {
   "cell_type": "code",
   "execution_count": null,
   "metadata": {},
   "outputs": [],
   "source": [
    "# Read JSON cards data from file\n",
    "with open(\"/Users/72561/Documents/Personal/Trade_Pokemon/pokemon-tcg-pocket-database/dist/cards.json\", \"r\", encoding=\"utf-8\") as f:\n",
    "    data = json.load(f)\n",
    "\n",
    "# Convert JSON to DataFrame. \n",
    "# json_normalize automatically flattens nested objects like \"label\".\n",
    "df = pd.json_normalize(data)\n",
    "\n",
    "df.head()"
   ]
  },
  {
   "cell_type": "code",
   "execution_count": null,
   "metadata": {},
   "outputs": [],
   "source": [
    "#change name of Oricorio merging label.eng with number\n",
    "df.loc[(df['label.eng']=='Oricorio') & (df['rarity']=='Uncommon'), 'label.eng'] = df.loc[(df['label.eng']=='Oricorio') & (df['rarity']=='Uncommon'), 'label.eng'] + \" \" + df.loc[(df['label.eng']=='Oricorio') & (df['rarity']=='Uncommon'), 'number'].astype(str)\n",
    "df[df['label.eng'].str.contains('Oricorio') & (df['rarity'] == 'Uncommon')]\n"
   ]
  },
  {
   "cell_type": "code",
   "execution_count": null,
   "metadata": {},
   "outputs": [],
   "source": [
    "#change name of Lycanroc merging label.eng with number\n",
    "df.loc[(df['label.eng']=='Lycanroc') & (df['rarity']=='Rare'), 'label.eng'] = df.loc[(df['label.eng']=='Lycanroc') & (df['rarity']=='Rare'), 'label.eng'] + \" \" + df.loc[(df['label.eng']=='Lycanroc') & (df['rarity']=='Rare'), 'number'].astype(str)\n",
    "df[df['label.eng'].str.contains('Lycanroc') & (df['rarity'] == 'Rare')]"
   ]
  },
  {
   "cell_type": "code",
   "execution_count": 24,
   "metadata": {},
   "outputs": [],
   "source": [
    "# import requests\n",
    "# from io import BytesIO\n",
    "# from PIL import Image\n",
    "# from IPython.display import display\n",
    "\n",
    "# # Example base URL: adjust as needed\n",
    "# BASE_URL = \"https://assets.pokemon-zone.com/game-assets/CardPreviews\"\n",
    "\n",
    "# def show_images_from_df(df):\n",
    "#     \"\"\"Display images inline for each row in the DataFrame.\"\"\"\n",
    "#     for idx, row in df.iterrows():\n",
    "#         # Build the full image URL\n",
    "#         image_url = f\"{BASE_URL}/{row['imageName']}\"\n",
    "        \n",
    "#         # Download the image\n",
    "#         response = requests.get(image_url)\n",
    "        \n",
    "#         # If successful, display inline\n",
    "#         if response.ok:\n",
    "#             # Convert bytes into an image\n",
    "#             image_data = BytesIO(response.content)\n",
    "#             pil_image = Image.open(image_data)\n",
    "#             display(pil_image)\n",
    "#         else:\n",
    "#             print(f\"Failed to fetch image for {row['label.eng']} at {image_url}: HTTP {response.status_code}\")\n"
   ]
  },
  {
   "cell_type": "code",
   "execution_count": 25,
   "metadata": {},
   "outputs": [],
   "source": [
    "# show_images_from_df(df.head())"
   ]
  },
  {
   "cell_type": "code",
   "execution_count": null,
   "metadata": {},
   "outputs": [],
   "source": [
    "# Read JSON expansion data from file\n",
    "with open(\"/Users/72561/Documents/Personal/Trade_Pokemon/pokemon-tcg-pocket-database/dist/sets.json\", \"r\", encoding=\"utf-8\") as f:\n",
    "    data = json.load(f)\n",
    "\n",
    "# Convert JSON to DataFrame. \n",
    "# json_normalize automatically flattens nested objects like \"label\".\n",
    "df2 = pd.json_normalize(data)\n",
    "\n",
    "df2.head()"
   ]
  },
  {
   "cell_type": "code",
   "execution_count": null,
   "metadata": {},
   "outputs": [],
   "source": [
    "#join two dfs on set - code\n",
    "df_complete = df.merge(df2, left_on='set', right_on='code', suffixes=('', '_expansion'))\n",
    "df_complete.head()"
   ]
  },
  {
   "cell_type": "code",
   "execution_count": null,
   "metadata": {},
   "outputs": [],
   "source": [
    "df_final = df_complete[['label.en', 'label.eng', 'rarityCode', 'imageName']]\n",
    "df_final.columns = ['Espansione', 'Nome', 'Rarità', 'Immagine']\n",
    "df_final.head()"
   ]
  },
  {
   "cell_type": "code",
   "execution_count": null,
   "metadata": {},
   "outputs": [],
   "source": [
    "df_final.Espansione.unique()"
   ]
  },
  {
   "cell_type": "code",
   "execution_count": 9,
   "metadata": {},
   "outputs": [],
   "source": [
    "# Filter out cards that cannot be traded\n",
    "df_final = df_final[df_final['Espansione'] != 'Promo A']\n",
    "df_final = df_final[~df_final['Rarità'].isin(['SR', 'SAR', 'IM', 'UR', 'SR', 'S', 'SSR'])]"
   ]
  },
  {
   "cell_type": "code",
   "execution_count": null,
   "metadata": {},
   "outputs": [],
   "source": [
    "df_final.Rarità.unique()"
   ]
  },
  {
   "cell_type": "code",
   "execution_count": 11,
   "metadata": {},
   "outputs": [],
   "source": [
    "#print(df_final['Rarità'].unique())\n",
    "\n",
    "mappa_simboli_rarità = {\n",
    "    'C':  '♦',\n",
    "    'U':  '♦♦',\n",
    "    'R':  '♦♦♦',\n",
    "    'RR': '♦♦♦♦',\n",
    "    'AR': '★'\n",
    "}\n",
    "\n",
    "df_final['Rarità'] = df_final['Rarità'].map(mappa_simboli_rarità)\n",
    "\n",
    "#print(df_final['Rarità'].unique())"
   ]
  },
  {
   "cell_type": "code",
   "execution_count": 12,
   "metadata": {},
   "outputs": [],
   "source": [
    "df_final.to_csv('/Users/72561/Documents/Personal/Trade_Pokemon/pokemon-trade/static/files/Anagrafica_Pokemon.csv', index=False, encoding='utf-8-sig', sep=';')"
   ]
  }
 ],
 "metadata": {
  "kernelspec": {
   "display_name": "pokemon-trade-env10",
   "language": "python",
   "name": "python3"
  },
  "language_info": {
   "codemirror_mode": {
    "name": "ipython",
    "version": 3
   },
   "file_extension": ".py",
   "mimetype": "text/x-python",
   "name": "python",
   "nbconvert_exporter": "python",
   "pygments_lexer": "ipython3",
   "version": "3.10.17"
  }
 },
 "nbformat": 4,
 "nbformat_minor": 2
}
